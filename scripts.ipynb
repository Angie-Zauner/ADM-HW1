{
  "nbformat": 4,
  "nbformat_minor": 0,
  "metadata": {
    "colab": {
      "provenance": [],
      "toc_visible": true
    },
    "kernelspec": {
      "name": "python3",
      "display_name": "Python 3"
    },
    "language_info": {
      "name": "python"
    }
  },
  "cells": [
    {
      "cell_type": "markdown",
      "source": [
        "Angelica Zauner - matr.1883247"
      ],
      "metadata": {
        "id": "f35WXpiIq_eJ"
      }
    },
    {
      "cell_type": "markdown",
      "source": [
        "# **Problem 1**"
      ],
      "metadata": {
        "id": "z_GvDpOjGAgb"
      }
    },
    {
      "cell_type": "markdown",
      "source": [
        "### **Introduction**"
      ],
      "metadata": {
        "id": "oVUZgZpSqlRf"
      }
    },
    {
      "cell_type": "markdown",
      "source": [
        "**Say \"Hello, World!\" With Python:**"
      ],
      "metadata": {
        "id": "rBNST_d_q25V"
      }
    },
    {
      "cell_type": "code",
      "execution_count": null,
      "metadata": {
        "id": "rzWJXfJkqWRH"
      },
      "outputs": [],
      "source": [
        "if __name__ == '__main__':\n",
        "    print(\"Hello, World!\")"
      ]
    },
    {
      "cell_type": "markdown",
      "source": [
        "**Python If-Else:**"
      ],
      "metadata": {
        "id": "5wzXxibwrUW0"
      }
    },
    {
      "cell_type": "code",
      "source": [
        "#!/bin/python3\n",
        "\n",
        "import math\n",
        "import os\n",
        "import random\n",
        "import re\n",
        "import sys\n",
        "\n",
        "if __name__ == '__main__':\n",
        "    n = int(input().strip())\n",
        "    if n%2==1 or n in range (6,21,2):\n",
        "    \tprint('Weird')\n",
        "    elif n in range (2,5,2) or (n > 20 and n%2 == 0):\n",
        "        print('Not Weird')"
      ],
      "metadata": {
        "id": "GJ1UHmPmrURT"
      },
      "execution_count": null,
      "outputs": []
    },
    {
      "cell_type": "markdown",
      "source": [
        "**Arithmetic Operators:**"
      ],
      "metadata": {
        "id": "uvob1CJorUg_"
      }
    },
    {
      "cell_type": "code",
      "source": [
        "if __name__ == '__main__':\n",
        "    a = int(input())\n",
        "    b = int(input())\n",
        "\n",
        "    print(f'{a+b}\\n{a-b}\\n{a*b}')"
      ],
      "metadata": {
        "id": "qFX9mUKfrUEB"
      },
      "execution_count": null,
      "outputs": []
    },
    {
      "cell_type": "markdown",
      "source": [
        "**Python: Division:**"
      ],
      "metadata": {
        "id": "SYAvPOuhrT9E"
      }
    },
    {
      "cell_type": "code",
      "source": [
        "if __name__ == '__main__':\n",
        "    a = int(input())\n",
        "    b = int(input())\n",
        "    print(f'{a//b}\\n{a/b}')"
      ],
      "metadata": {
        "id": "HdA-XWr7rT2f"
      },
      "execution_count": null,
      "outputs": []
    },
    {
      "cell_type": "markdown",
      "source": [
        "**Loops:**"
      ],
      "metadata": {
        "id": "QXcL5uvprTvu"
      }
    },
    {
      "cell_type": "code",
      "source": [
        "if __name__ == '__main__':\n",
        "    n = int(input())\n",
        "    for i in range(n):\n",
        "        print(i**2)"
      ],
      "metadata": {
        "id": "EK0tzZCHrTor"
      },
      "execution_count": null,
      "outputs": []
    },
    {
      "cell_type": "markdown",
      "source": [
        "**Write a function:**"
      ],
      "metadata": {
        "id": "dJoLuryErTg7"
      }
    },
    {
      "cell_type": "code",
      "source": [
        "def is_leap(year):\n",
        "    leap = False\n",
        "\n",
        "    if year%4 == 0:\n",
        "        if year%100 == 0 and year%400 != 0:\n",
        "            return leap\n",
        "        leap = True\n",
        "\n",
        "    return leap"
      ],
      "metadata": {
        "id": "hChr5IRLrTYx"
      },
      "execution_count": null,
      "outputs": []
    },
    {
      "cell_type": "markdown",
      "source": [
        "**Print Function:**"
      ],
      "metadata": {
        "id": "MBSN_5N8rTCr"
      }
    },
    {
      "cell_type": "code",
      "source": [
        "if __name__ == '__main__':\n",
        "    n = int(input())\n",
        "    result = ''\n",
        "    for i in range (1,n+1):\n",
        "        result += str(i)\n",
        "    print(result)"
      ],
      "metadata": {
        "id": "IrVdKljjrSU0"
      },
      "execution_count": null,
      "outputs": []
    },
    {
      "cell_type": "markdown",
      "source": [
        "### **Basic Data Types**"
      ],
      "metadata": {
        "id": "yrC5f4tarRbf"
      }
    },
    {
      "cell_type": "markdown",
      "source": [
        "**List Comprehensions:**"
      ],
      "metadata": {
        "id": "b4oZDBS1sEKX"
      }
    },
    {
      "cell_type": "code",
      "source": [
        "if __name__ == '__main__':\n",
        "    x = int(input())\n",
        "    y = int(input())\n",
        "    z = int(input())\n",
        "    n = int(input())\n",
        "\n",
        "    print ([[i,j,k] for i in range(x+1) for j in range(y+1) for k in range(z+1) if i+j+k != n])"
      ],
      "metadata": {
        "id": "d6EBL7werRqw"
      },
      "execution_count": null,
      "outputs": []
    },
    {
      "cell_type": "markdown",
      "source": [
        "**Find the Runner-Up Score!:**"
      ],
      "metadata": {
        "id": "g_IXWHmCsSN6"
      }
    },
    {
      "cell_type": "code",
      "source": [
        "if __name__ == '__main__':\n",
        "    n = int(input())\n",
        "    arr = map(int, input().split())\n",
        "\n",
        "    l = sorted(list(arr), reverse = True)\n",
        "    lset= tuple(set(l))\n",
        "\n",
        "    print (lset[1])"
      ],
      "metadata": {
        "id": "N4ICwRaasSGG"
      },
      "execution_count": null,
      "outputs": []
    },
    {
      "cell_type": "markdown",
      "source": [
        "**Nested Lists:**"
      ],
      "metadata": {
        "id": "1JQCP1AisR2R"
      }
    },
    {
      "cell_type": "code",
      "source": [
        "if __name__ == '__main__':\n",
        "    mylist = []\n",
        "    for _ in range(int(input())):\n",
        "        name = input()\n",
        "        score = float(input())\n",
        "        mylist.append([name, score])\n",
        "\n",
        "    second_best = sorted(list(set([mylist[i][1] for i in range(len(mylist))])))[1]\n",
        "    names = sorted([mylist[i][0] for i in range(len(mylist)) if mylist[i][1]== second_best])\n",
        "\n",
        "    print ('\\n'.join(names))"
      ],
      "metadata": {
        "id": "C4kTlzk2sRt7"
      },
      "execution_count": null,
      "outputs": []
    },
    {
      "cell_type": "markdown",
      "source": [
        "**Finding the percentage:**"
      ],
      "metadata": {
        "id": "7riEQSPVsRlF"
      }
    },
    {
      "cell_type": "code",
      "source": [
        "if __name__ == '__main__':\n",
        "    n = int(input())\n",
        "    student_marks = {}\n",
        "    for _ in range(n):\n",
        "        name, *line = input().split()\n",
        "        scores = list(map(float, line))\n",
        "        student_marks[name] = scores\n",
        "    query_name = input()\n",
        "\n",
        "    marks = student_marks[query_name]\n",
        "    print(f'{round(sum(marks)/len(marks),2):.2f}')"
      ],
      "metadata": {
        "id": "wbXCewVOsRcQ"
      },
      "execution_count": null,
      "outputs": []
    },
    {
      "cell_type": "markdown",
      "source": [
        "**Lists:**"
      ],
      "metadata": {
        "id": "SCZ2AQ9VsROF"
      }
    },
    {
      "cell_type": "code",
      "source": [
        "if __name__ == '__main__':\n",
        "    N = int(input())\n",
        "    l = []\n",
        "\n",
        "    for n in range(N):\n",
        "        line = input().split()\n",
        "\n",
        "        if line[0] == 'insert':\n",
        "            l.insert(int(line[1]), int(line[2]))\n",
        "        elif line[0] == 'print':\n",
        "            print (l)\n",
        "        elif line[0] == 'remove':\n",
        "            l.remove(int(line[1]))\n",
        "        elif line[0] == 'append':\n",
        "            l.append(int(line[1]))\n",
        "        elif line[0] == 'sort':\n",
        "            l.sort()\n",
        "        elif line[0] == 'pop':\n",
        "            l.pop()\n",
        "        else:\n",
        "            l.reverse()"
      ],
      "metadata": {
        "id": "CgOolwXLsQ0n"
      },
      "execution_count": null,
      "outputs": []
    },
    {
      "cell_type": "markdown",
      "source": [
        "**Tuples:**"
      ],
      "metadata": {
        "id": "fIcS01tqsncr"
      }
    },
    {
      "cell_type": "code",
      "source": [
        "if __name__ == '__main__':\n",
        "    n = int(input())\n",
        "    integer_list = map(int, input().split())\n",
        "    t = tuple(integer_list)\n",
        "\n",
        "    print (hash(t))"
      ],
      "metadata": {
        "id": "MeXvq2n1snQ5"
      },
      "execution_count": null,
      "outputs": []
    },
    {
      "cell_type": "markdown",
      "source": [
        "### **Strings**"
      ],
      "metadata": {
        "id": "_gpskLyEu5MG"
      }
    },
    {
      "cell_type": "markdown",
      "source": [
        "**sWAP cASE**"
      ],
      "metadata": {
        "id": "xDuAxwiEu5Ba"
      }
    },
    {
      "cell_type": "code",
      "source": [
        "def swap_case(s):\n",
        "    return s.swapcase()"
      ],
      "metadata": {
        "id": "plo6LHbyu47J"
      },
      "execution_count": null,
      "outputs": []
    },
    {
      "cell_type": "markdown",
      "source": [
        "**String Split and Join**"
      ],
      "metadata": {
        "id": "vWGUnO3Su40Z"
      }
    },
    {
      "cell_type": "code",
      "source": [
        "def split_and_join(line):\n",
        "    split = line.split(' ')\n",
        "    return '-'.join(split)\n",
        "\n",
        "if __name__ == '__main__':\n",
        "    line = input()\n",
        "    result = split_and_join(line)\n",
        "    print(result)"
      ],
      "metadata": {
        "id": "m8yHV0Aeu4bq"
      },
      "execution_count": null,
      "outputs": []
    },
    {
      "cell_type": "markdown",
      "source": [
        "**What's Your Name?**"
      ],
      "metadata": {
        "id": "qh1gCbyou4Oh"
      }
    },
    {
      "cell_type": "code",
      "source": [
        "def print_full_name(first, last):\n",
        "    print(f'Hello {first} {last}! You just delved into python.')"
      ],
      "metadata": {
        "id": "FT8RUQifu4IS"
      },
      "execution_count": null,
      "outputs": []
    },
    {
      "cell_type": "markdown",
      "source": [
        "**Mutations**"
      ],
      "metadata": {
        "id": "hE1dD9aBu3vQ"
      }
    },
    {
      "cell_type": "code",
      "source": [
        "def mutate_string(string, position, character):\n",
        "    return string[:position] + character + string[position+1:]"
      ],
      "metadata": {
        "id": "UXrN0OG4u2rm"
      },
      "execution_count": null,
      "outputs": []
    },
    {
      "cell_type": "markdown",
      "source": [
        "**Find a string**"
      ],
      "metadata": {
        "id": "al8tvR_6u1k1"
      }
    },
    {
      "cell_type": "code",
      "source": [
        "def count_substring(string, sub_string):\n",
        "    count = 0\n",
        "    for i in range(len(string)):\n",
        "        if string[i:i+len(sub_string)] == sub_string:\n",
        "            count +=1\n",
        "    return count"
      ],
      "metadata": {
        "id": "tH7iNvdAu1dQ"
      },
      "execution_count": null,
      "outputs": []
    },
    {
      "cell_type": "markdown",
      "source": [
        "**String Validators**"
      ],
      "metadata": {
        "id": "TMzYYmlVvbV3"
      }
    },
    {
      "cell_type": "code",
      "source": [
        "if __name__ == '__main__':\n",
        "    s = input()\n",
        "    print (f'{any(map(str.isalnum, s))}\\n{any(map(str.isalpha, s))}\\n{any(map(str.isdigit, s))}\\n{any(map(str.islower, s))}\\n{any(map(str.isupper, s))}')"
      ],
      "metadata": {
        "id": "Ocomba9xu153"
      },
      "execution_count": null,
      "outputs": []
    },
    {
      "cell_type": "markdown",
      "source": [
        "**Text Alignment**"
      ],
      "metadata": {
        "id": "7VZxIpyNvb2I"
      }
    },
    {
      "cell_type": "code",
      "source": [
        "#Replace all ______ with rjust, ljust or center.\n",
        "\n",
        "thickness = int(input()) #This must be an odd number\n",
        "c = 'H'\n",
        "\n",
        "#Top Cone\n",
        "for i in range(thickness):\n",
        "    print((c*i).rjust(thickness-1)+c+(c*i).ljust(thickness-1))\n",
        "\n",
        "#Top Pillars\n",
        "for i in range(thickness+1):\n",
        "    print((c*thickness).center(thickness*2)+(c*thickness).center(thickness*6))\n",
        "\n",
        "#Middle Belt\n",
        "for i in range((thickness+1)//2):\n",
        "    print((c*thickness*5).center(thickness*6))\n",
        "\n",
        "#Bottom Pillars\n",
        "for i in range(thickness+1):\n",
        "    print((c*thickness).center(thickness*2)+(c*thickness).center(thickness*6))\n",
        "\n",
        "#Bottom Cone\n",
        "for i in range(thickness):\n",
        "    print(((c*(thickness-i-1)).rjust(thickness)+c+(c*(thickness-i-1)).ljust(thickness)).rjust(thickness*6))"
      ],
      "metadata": {
        "id": "pP0R00X3vciS"
      },
      "execution_count": null,
      "outputs": []
    },
    {
      "cell_type": "markdown",
      "source": [
        "**Text Wrap**"
      ],
      "metadata": {
        "id": "Od0jdUbHvoxx"
      }
    },
    {
      "cell_type": "code",
      "source": [
        "def wrap(string, max_width):\n",
        "    return '\\n'.join(textwrap.wrap(string, max_width))"
      ],
      "metadata": {
        "id": "Jg0jKNjAvoqw"
      },
      "execution_count": null,
      "outputs": []
    },
    {
      "cell_type": "markdown",
      "source": [
        "**Designer Door Mat**"
      ],
      "metadata": {
        "id": "-YI6H3ivvoi6"
      }
    },
    {
      "cell_type": "code",
      "source": [
        "dim = input()\n",
        "N,M = map(int, dim.split(' '))\n",
        "\n",
        "mat = []\n",
        "mid = int((N-1)/2)    #index of the WELCOME\n",
        "\n",
        "for i in range(mid):\n",
        "    motive = '.|.'*(2*i+1)\n",
        "    row = motive.center(M, '-')\n",
        "    mat.append(row)\n",
        "\n",
        "mid_row = 'WELCOME'.center(M, '-')\n",
        "mat.append(mid_row)\n",
        "\n",
        "mat += mat[mid-1::-1]\n",
        "\n",
        "print ('\\n'.join(mat))"
      ],
      "metadata": {
        "id": "vKOG9e1xvob4"
      },
      "execution_count": null,
      "outputs": []
    },
    {
      "cell_type": "markdown",
      "source": [
        "**String Formatting**"
      ],
      "metadata": {
        "id": "cCK-IRmHvoUW"
      }
    },
    {
      "cell_type": "code",
      "source": [
        "def print_formatted(number):\n",
        "    rows = [[str(i), oct(i)[2:], hex(i)[2:].upper(), bin(i)[2:]] for i in range(1,number+1)]\n",
        "    width = len(rows[-1][-1])\n",
        "\n",
        "    for row in rows:\n",
        "        print(f\"{row[0]:>{width}} {row[1]:>{width}} {row[2]:>{width}} {row[3]:>{width}}\")"
      ],
      "metadata": {
        "id": "vsTSzrItvoKe"
      },
      "execution_count": null,
      "outputs": []
    },
    {
      "cell_type": "markdown",
      "source": [
        "**Alphabet Rangoli**"
      ],
      "metadata": {
        "id": "7OYRpdaQvn9o"
      }
    },
    {
      "cell_type": "code",
      "source": [
        "def print_rangoli(size):\n",
        "    alphabet = [\n",
        "        'a','b','c','d','e','f','g','h','i','j','k','l','m',\n",
        "        'n','o','p','q','r','s','t','u','v','w','x','y','z'\n",
        "        ]\n",
        "\n",
        "    rows=[]\n",
        "\n",
        "    for i in range(size):\n",
        "        row = '-'.join(alphabet[size-1:i:-1] + alphabet[i:size])\n",
        "        rows.append(row.center(4*size-3, '-'))\n",
        "\n",
        "    print ('\\n'.join(rows[::-1] + rows[1:]))"
      ],
      "metadata": {
        "id": "rbfxIeB2vnvl"
      },
      "execution_count": null,
      "outputs": []
    },
    {
      "cell_type": "markdown",
      "source": [
        "**Capitalize!**"
      ],
      "metadata": {
        "id": "TTFGMweavlsD"
      }
    },
    {
      "cell_type": "code",
      "source": [
        "def solve(s):\n",
        "    return ' '.join(map(str.capitalize, s.split(' ')))"
      ],
      "metadata": {
        "id": "3Rho9Ws6vm97"
      },
      "execution_count": null,
      "outputs": []
    },
    {
      "cell_type": "markdown",
      "source": [
        "**The Minion Game**"
      ],
      "metadata": {
        "id": "L1nvE0Hvv_r1"
      }
    },
    {
      "cell_type": "code",
      "source": [
        "def minion_game(string):\n",
        "    vowels = 'AEIOU'\n",
        "    scores = {\n",
        "        'K' : 0,\n",
        "        'S' : 0\n",
        "    }\n",
        "\n",
        "    for i in range(len(string)):\n",
        "        if string[i] in vowels:\n",
        "            scores['K'] += len(string)-i\n",
        "        else:\n",
        "            scores['S'] += len(string)-i\n",
        "\n",
        "\n",
        "    if scores['K']>scores['S']:\n",
        "        print (f\"Kevin {scores['K']}\")\n",
        "    elif scores['S']>scores['K']:\n",
        "        print (f\"Stuart {scores['S']}\")\n",
        "    else:\n",
        "        print('Draw')"
      ],
      "metadata": {
        "id": "-O-5uZp1vl3D"
      },
      "execution_count": null,
      "outputs": []
    },
    {
      "cell_type": "markdown",
      "source": [
        "**Merge the Tools!**"
      ],
      "metadata": {
        "id": "LDTJrFgXwG_0"
      }
    },
    {
      "cell_type": "code",
      "source": [
        "def remove_double(word):\n",
        "    new_word=''\n",
        "    for ch in word:\n",
        "        if ch not in new_word:\n",
        "            new_word += ch\n",
        "    return new_word\n",
        "\n",
        "def merge_the_tools(string, k):\n",
        "    subs = [string[i:i+k] for i in range(0,len(string), k)]\n",
        "\n",
        "    for el in subs[:]:\n",
        "        if len(set(el)) != len(el):\n",
        "            subs[subs.index(el)] = remove_double(el)\n",
        "    print ('\\n'.join(subs))\n"
      ],
      "metadata": {
        "id": "TuNItL7jwG2c"
      },
      "execution_count": null,
      "outputs": []
    },
    {
      "cell_type": "markdown",
      "source": [
        "### **Set**"
      ],
      "metadata": {
        "id": "w3tMHw47wGmB"
      }
    },
    {
      "cell_type": "markdown",
      "source": [
        "**Introduction to Sets**"
      ],
      "metadata": {
        "id": "kdDD6pN4wQMY"
      }
    },
    {
      "cell_type": "code",
      "source": [
        "def average(array):\n",
        "    return (sum(set(array))/len(set(array)))"
      ],
      "metadata": {
        "id": "WKTjW71XwGXb"
      },
      "execution_count": null,
      "outputs": []
    },
    {
      "cell_type": "markdown",
      "source": [
        "**Symmetric Difference**"
      ],
      "metadata": {
        "id": "6_l3kxJMwVJz"
      }
    },
    {
      "cell_type": "code",
      "source": [
        "nM = int(input())\n",
        "M = set(map(int, input().split()))\n",
        "nN = int (input())\n",
        "N = set(map(int, input().split()))\n",
        "\n",
        "symmetric_difference = M.symmetric_difference(N)\n",
        "\n",
        "for value in sorted(symmetric_difference):\n",
        "    print(value)"
      ],
      "metadata": {
        "id": "ELHTaZ6VwVSJ"
      },
      "execution_count": null,
      "outputs": []
    },
    {
      "cell_type": "markdown",
      "source": [
        "**No Idea!**"
      ],
      "metadata": {
        "id": "BufHFsgnwGHh"
      }
    },
    {
      "cell_type": "code",
      "source": [
        "n, m = map(int, input().split())\n",
        "elem = list(map(int, input().split()))\n",
        "h = 0\n",
        "a = set(map(int, input().split()))\n",
        "b = set(map(int, input().split()))\n",
        "\n",
        "for el in elem:\n",
        "    if el in a:\n",
        "        h += 1\n",
        "    elif el in b:\n",
        "        h -= 1\n",
        "\n",
        "print(h)"
      ],
      "metadata": {
        "id": "5qqgDU1dwUZv"
      },
      "execution_count": null,
      "outputs": []
    },
    {
      "cell_type": "markdown",
      "source": [
        "**Set .add()**"
      ],
      "metadata": {
        "id": "yRovfQT6weMi"
      }
    },
    {
      "cell_type": "code",
      "source": [
        "N = int(input())\n",
        "a = set()\n",
        "for n in range(N):\n",
        "    a.add(input())\n",
        "\n",
        "print (len(a))"
      ],
      "metadata": {
        "id": "f-Yk-L-uweEt"
      },
      "execution_count": null,
      "outputs": []
    },
    {
      "cell_type": "markdown",
      "source": [
        "**Set .discard(), .remove() & .pop()**"
      ],
      "metadata": {
        "id": "jW8q691Gwd8Y"
      }
    },
    {
      "cell_type": "code",
      "source": [
        "n = int(input())\n",
        "s = set(map(int, input().split()))\n",
        "N = int(input())\n",
        "for i in range(N):\n",
        "    cmd = list(map(str, input().split()))\n",
        "    if cmd[0] == \"pop\":\n",
        "        s.pop()\n",
        "    elif cmd[0] == \"remove\":\n",
        "        s.remove(int(cmd[1]))\n",
        "    elif cmd[0] == \"discard\":\n",
        "        s.discard(int(cmd[1]))\n",
        "print(sum(s))"
      ],
      "metadata": {
        "id": "khXyVB9Twd0l"
      },
      "execution_count": null,
      "outputs": []
    },
    {
      "cell_type": "markdown",
      "source": [
        "**Set .union() Operation**"
      ],
      "metadata": {
        "id": "Nj05FIfRwdtR"
      }
    },
    {
      "cell_type": "code",
      "source": [
        "n = int(input())\n",
        "eng = set(input().split())\n",
        "m = int(input())\n",
        "fr = set(input().split())\n",
        "\n",
        "print (len(eng.union(fr)))"
      ],
      "metadata": {
        "id": "98PbAmVhwdmA"
      },
      "execution_count": null,
      "outputs": []
    },
    {
      "cell_type": "markdown",
      "source": [
        "**Set .intersection() Operation**"
      ],
      "metadata": {
        "id": "IMVAYpXuwdbl"
      }
    },
    {
      "cell_type": "code",
      "source": [
        "n = int(input())\n",
        "eng = set(input().split())\n",
        "m = int(input())\n",
        "fr = set(input().split())\n",
        "\n",
        "print (len(eng.intersection(fr)))"
      ],
      "metadata": {
        "id": "onZyoKh6wdSf"
      },
      "execution_count": null,
      "outputs": []
    },
    {
      "cell_type": "markdown",
      "source": [
        "**Set .difference() Operation**"
      ],
      "metadata": {
        "id": "0g4-OFNvwdDX"
      }
    },
    {
      "cell_type": "code",
      "source": [
        "n = int(input())\n",
        "eng = set(input().split())\n",
        "m = int(input())\n",
        "fr = set(input().split())\n",
        "\n",
        "print (len(eng.difference(fr)))"
      ],
      "metadata": {
        "id": "fnDRKIgXwcpn"
      },
      "execution_count": null,
      "outputs": []
    },
    {
      "cell_type": "markdown",
      "source": [
        "**Set .symmetric_difference() Operation**"
      ],
      "metadata": {
        "id": "BELXbzxWxLHE"
      }
    },
    {
      "cell_type": "code",
      "source": [
        "n = int(input())\n",
        "eng = set(input().split())\n",
        "m = int(input())\n",
        "fr = set(input().split())\n",
        "\n",
        "print (len(eng.symmetric_difference(fr)))"
      ],
      "metadata": {
        "id": "MI8zNrmIxK-N"
      },
      "execution_count": null,
      "outputs": []
    },
    {
      "cell_type": "markdown",
      "source": [
        "**Set Mutations**"
      ],
      "metadata": {
        "id": "HsnBuYxixK14"
      }
    },
    {
      "cell_type": "code",
      "source": [
        "n = int(input())\n",
        "a = set(map(int, input().split()))\n",
        "\n",
        "N = int(input())\n",
        "\n",
        "for i in range(N):\n",
        "    op, i = input().split()\n",
        "\n",
        "    b = set(map(int, input().split()))\n",
        "\n",
        "    if op == \"intersection_update\":\n",
        "        a.intersection_update(b)\n",
        "    elif op == \"update\":\n",
        "        a.update(b)\n",
        "    elif op == \"symmetric_difference_update\":\n",
        "        a.symmetric_difference_update(b)\n",
        "    elif op == \"difference_update\":\n",
        "        a.difference_update(b)\n",
        "\n",
        "print(sum(a))"
      ],
      "metadata": {
        "id": "H9O91WCcxKm3"
      },
      "execution_count": null,
      "outputs": []
    },
    {
      "cell_type": "markdown",
      "source": [
        "**The Captain's Room**"
      ],
      "metadata": {
        "id": "2yqEVWcSxKdv"
      }
    },
    {
      "cell_type": "code",
      "source": [
        "K = int(input())\n",
        "rooms = list(map(int, input().split()))\n",
        "\n",
        "unique = set(rooms)\n",
        "\n",
        "ex_sum = sum(unique) * K\n",
        "real_sum = sum(rooms)\n",
        "\n",
        "cap = (ex_sum - real_sum) // (K - 1)\n",
        "\n",
        "print(cap)"
      ],
      "metadata": {
        "id": "2JJh8cWOxKSx"
      },
      "execution_count": null,
      "outputs": []
    },
    {
      "cell_type": "markdown",
      "source": [
        "**Check Subset**"
      ],
      "metadata": {
        "id": "gxFiZAe0xKHC"
      }
    },
    {
      "cell_type": "code",
      "source": [
        "T = int(input())\n",
        "\n",
        "for t in range(T):\n",
        "    na = int(input())\n",
        "    a = set(map(int, input().split()))\n",
        "\n",
        "    nb = int(input())\n",
        "    b = set(map(int, input().split()))\n",
        "\n",
        "    print(a.issubset(b))"
      ],
      "metadata": {
        "id": "ZuYFv5D2xJ45"
      },
      "execution_count": null,
      "outputs": []
    },
    {
      "cell_type": "markdown",
      "source": [
        "**Check Strict Superset**"
      ],
      "metadata": {
        "id": "W387-FIJxGrr"
      }
    },
    {
      "cell_type": "code",
      "source": [
        "a = set(input().split())\n",
        "out = True\n",
        "\n",
        "for i in range(int(input())):\n",
        "    b = set(input().split())\n",
        "\n",
        "    if not (a.issuperset(b) and len(a) > len(b)):\n",
        "        out = False\n",
        "\n",
        "print (out)"
      ],
      "metadata": {
        "id": "spCsSWXOxG-i"
      },
      "execution_count": null,
      "outputs": []
    },
    {
      "cell_type": "markdown",
      "source": [
        "### **Collections**"
      ],
      "metadata": {
        "id": "V8WSKCa6xmCA"
      }
    },
    {
      "cell_type": "markdown",
      "source": [
        "**collections.Counter()**"
      ],
      "metadata": {
        "id": "Q8reK8Vmxl58"
      }
    },
    {
      "cell_type": "code",
      "source": [
        "n = int(input())\n",
        "numbers = list(map(int, input().split()))\n",
        "\n",
        "counter = 0\n",
        "costumers = int(input())\n",
        "for c in range(costumers):\n",
        "    size, price = map(int, input().split())\n",
        "    if size in numbers:\n",
        "        counter += price\n",
        "        numbers.remove(size)\n",
        "\n",
        "print(counter)"
      ],
      "metadata": {
        "id": "M4UnKIbzxlu8"
      },
      "execution_count": null,
      "outputs": []
    },
    {
      "cell_type": "markdown",
      "source": [
        "**DefaultDict Tutorial**"
      ],
      "metadata": {
        "id": "mPhPVqTsxxBn"
      }
    },
    {
      "cell_type": "code",
      "source": [
        "from collections import defaultdict\n",
        "A, B = map(int, input().split())\n",
        "\n",
        "groupA = defaultdict(list)\n",
        "\n",
        "for a in range(1, A + 1):\n",
        "    word = input()\n",
        "    groupA[word].append(str(a))\n",
        "\n",
        "for b in range(B):\n",
        "    word = input()\n",
        "    if word in groupA:\n",
        "        print(' '.join(groupA[word]))\n",
        "    else:\n",
        "        print('-1')"
      ],
      "metadata": {
        "id": "VmoyLIMDxlbU"
      },
      "execution_count": null,
      "outputs": []
    },
    {
      "cell_type": "markdown",
      "source": [
        "**Collections.namedtuple()**"
      ],
      "metadata": {
        "id": "L9mnGkDTxlQ5"
      }
    },
    {
      "cell_type": "code",
      "source": [
        "from collections import namedtuple\n",
        "\n",
        "n = int(input())\n",
        "\n",
        "Student = namedtuple('Student', input().split())\n",
        "\n",
        "print(f'{sum([int(Student(*input().split()).MARKS) for i in range(n)])/ n:.2f}')"
      ],
      "metadata": {
        "id": "paO38JFnxlH1"
      },
      "execution_count": null,
      "outputs": []
    },
    {
      "cell_type": "markdown",
      "source": [
        "**Collections.OrderedDict()**"
      ],
      "metadata": {
        "id": "RF3dePqrxgns"
      }
    },
    {
      "cell_type": "code",
      "source": [
        "from collections import OrderedDict\n",
        "\n",
        "items = OrderedDict()\n",
        "n = int(input())\n",
        "\n",
        "for i in range(n):\n",
        "    unpacked = input().split()\n",
        "    name = \" \".join(unpacked[:-1])\n",
        "    price = int(unpacked[-1])\n",
        "\n",
        "    if name in items:\n",
        "        items[name] += price\n",
        "    else:\n",
        "        items[name] = price\n",
        "\n",
        "for name, price in items.items():\n",
        "    print(f\"{name} {price}\")\n"
      ],
      "metadata": {
        "id": "2JGZx1n8xgfU"
      },
      "execution_count": null,
      "outputs": []
    },
    {
      "cell_type": "markdown",
      "source": [
        "**Word Order**"
      ],
      "metadata": {
        "id": "ipfgLPFcxgXS"
      }
    },
    {
      "cell_type": "code",
      "source": [
        "from collections import OrderedDict\n",
        "\n",
        "words = OrderedDict()\n",
        "N = int(input())\n",
        "\n",
        "for n in range(N):\n",
        "    word = input().strip()\n",
        "    if word in words:\n",
        "        words[word] += 1\n",
        "    else:\n",
        "        words[word] = 1\n",
        "\n",
        "\n",
        "print(len(words))\n",
        "print(' '.join(map(str, words.values())))"
      ],
      "metadata": {
        "id": "vhsSV_PoxgRi"
      },
      "execution_count": null,
      "outputs": []
    },
    {
      "cell_type": "markdown",
      "source": [
        "**Collections.deque()**"
      ],
      "metadata": {
        "id": "KQPJtdy2xgKQ"
      }
    },
    {
      "cell_type": "code",
      "source": [
        "from collections import deque\n",
        "d = deque()\n",
        "\n",
        "N = int(input())\n",
        "\n",
        "for n in range(N):\n",
        "    command = input().split()\n",
        "\n",
        "    if command[0] == 'append':\n",
        "        d.append(command[1])\n",
        "    elif command[0] == 'pop':\n",
        "        d.pop()\n",
        "    elif command[0] == 'popleft':\n",
        "        d.popleft()\n",
        "    else:\n",
        "        d.appendleft(command[1])\n",
        "\n",
        "print(' '.join(d))"
      ],
      "metadata": {
        "id": "Yzhg-laZxgDN"
      },
      "execution_count": null,
      "outputs": []
    },
    {
      "cell_type": "markdown",
      "source": [
        "**Piling Up!**"
      ],
      "metadata": {
        "id": "HgI2pq9qxf3u"
      }
    },
    {
      "cell_type": "code",
      "source": [
        "T = int(input())\n",
        "\n",
        "for t in range(T):\n",
        "    n = int(input())\n",
        "    cubes = list(map(int, input().split()))\n",
        "\n",
        "    last = float('inf')\n",
        "\n",
        "    sx = 0\n",
        "    dx = n - 1\n",
        "\n",
        "    possible = True\n",
        "    while sx <= dx:\n",
        "        if cubes[sx] >= cubes[dx]:\n",
        "            current = cubes[sx]\n",
        "            sx += 1\n",
        "        else:\n",
        "            current = cubes[dx]\n",
        "            dx -= 1\n",
        "\n",
        "        if current > last:\n",
        "            possible = False\n",
        "            break\n",
        "        last = current\n",
        "\n",
        "    if possible:\n",
        "        print(\"Yes\")\n",
        "    else:\n",
        "        print(\"No\")"
      ],
      "metadata": {
        "id": "_-brslXWxfq4"
      },
      "execution_count": null,
      "outputs": []
    },
    {
      "cell_type": "markdown",
      "source": [
        "**Company Logo**"
      ],
      "metadata": {
        "id": "yCUn0mASyOJA"
      }
    },
    {
      "cell_type": "code",
      "source": [
        "#!/bin/python3\n",
        "\n",
        "import math\n",
        "import os\n",
        "import random\n",
        "import re\n",
        "import sys\n",
        "\n",
        "if __name__ == '__main__':\n",
        "    s = input()\n",
        "    freq = {}\n",
        "    for ch in s:\n",
        "        if ch not in freq:\n",
        "            freq[ch] = 1\n",
        "        else:\n",
        "            freq[ch] +=1\n",
        "\n",
        "    sorted_chars = sorted(freq.items(), key=lambda x: (-x[1], x[0]))\n",
        "\n",
        "    for char, count in sorted_chars[:3]:\n",
        "        print(f\"{char} {count}\")"
      ],
      "metadata": {
        "id": "-xr35yEYyN9h"
      },
      "execution_count": null,
      "outputs": []
    },
    {
      "cell_type": "markdown",
      "source": [
        "### **Date and Time**"
      ],
      "metadata": {
        "id": "mTGDvpyYyUQa"
      }
    },
    {
      "cell_type": "markdown",
      "source": [
        "**Calendar Module**"
      ],
      "metadata": {
        "id": "0yG1IPV7yUJp"
      }
    },
    {
      "cell_type": "code",
      "source": [
        "import calendar\n",
        "\n",
        "days = [\"MONDAY\", \"TUESDAY\", \"WEDNESDAY\", \"THURSDAY\", \"FRIDAY\", \"SATURDAY\", \"SUNDAY\"]\n",
        "\n",
        "m, d, y = map(int, input().split())\n",
        "day = calendar.weekday(y, m, d)\n",
        "\n",
        "print(days[day])"
      ],
      "metadata": {
        "id": "YGWVIQSQyUBy"
      },
      "execution_count": null,
      "outputs": []
    },
    {
      "cell_type": "markdown",
      "source": [
        "**Time Delta**"
      ],
      "metadata": {
        "id": "VZekSMWPyTv0"
      }
    },
    {
      "cell_type": "code",
      "source": [
        "#!/bin/python3\n",
        "from datetime import datetime\n",
        "import math\n",
        "import os\n",
        "import random\n",
        "import re\n",
        "import sys\n",
        "\n",
        "# Complete the time_delta function below.\n",
        "def time_delta(t1, t2):\n",
        "    time_format = '%a %d %b %Y %H:%M:%S %z' #how timestamp string is structured\n",
        "\n",
        "    time1 = datetime.strptime(t1, time_format) #converts a date-time string into a datetime object\n",
        "    time2 = datetime.strptime(t2, time_format)\n",
        "\n",
        "    return str(abs(int((time1 - time2).total_seconds())))\n",
        "\n",
        "if __name__ == '__main__':\n",
        "    fptr = open(os.environ['OUTPUT_PATH'], 'w')\n",
        "\n",
        "    t = int(input())\n",
        "\n",
        "    for t_itr in range(t):\n",
        "        t1 = input()\n",
        "\n",
        "        t2 = input()\n",
        "\n",
        "        delta = time_delta(t1, t2)\n",
        "\n",
        "        fptr.write(delta + '\\n')\n",
        "\n",
        "    fptr.close()"
      ],
      "metadata": {
        "id": "Bj8pAPp-yTkw"
      },
      "execution_count": null,
      "outputs": []
    },
    {
      "cell_type": "markdown",
      "source": [
        "### **Errors and Exceptions**"
      ],
      "metadata": {
        "id": "51my3EwzyeZs"
      }
    },
    {
      "cell_type": "markdown",
      "source": [
        "**Exceptions**"
      ],
      "metadata": {
        "id": "CJD_4O0uyeGA"
      }
    },
    {
      "cell_type": "code",
      "source": [
        "T = int(input())\n",
        "\n",
        "for t in range(T):\n",
        "    try:\n",
        "        a, b = map(int, input().split(' '))\n",
        "        try:\n",
        "            print(a//b)\n",
        "        except ZeroDivisionError as e:\n",
        "            print(\"Error Code:\", e)\n",
        "\n",
        "    except ValueError as v:\n",
        "        print('Error Code:', v)\n"
      ],
      "metadata": {
        "id": "RvyYd17ryd8F"
      },
      "execution_count": null,
      "outputs": []
    },
    {
      "cell_type": "markdown",
      "source": [
        "### **Built-Ins**"
      ],
      "metadata": {
        "id": "OObG7UIfypF8"
      }
    },
    {
      "cell_type": "markdown",
      "source": [
        "**Zipped!**"
      ],
      "metadata": {
        "id": "n6_-PJRTydy_"
      }
    },
    {
      "cell_type": "code",
      "source": [
        "N, X = map(int, input().split())\n",
        "\n",
        "grades = []\n",
        "for x in range(X):\n",
        "    grades.append(list(map(float, input().split())))\n",
        "\n",
        "avg = list(zip(*grades))\n",
        "\n",
        "for s in avg:\n",
        "    print(sum(s)/X)"
      ],
      "metadata": {
        "id": "lnPismerydon"
      },
      "execution_count": null,
      "outputs": []
    },
    {
      "cell_type": "markdown",
      "source": [
        "**Athlete Sort**"
      ],
      "metadata": {
        "id": "sc6UP0KyyxrD"
      }
    },
    {
      "cell_type": "code",
      "source": [
        "#!/bin/python3\n",
        "\n",
        "import math\n",
        "import os\n",
        "import random\n",
        "import re\n",
        "import sys\n",
        "\n",
        "if __name__ == '__main__':\n",
        "    nm = input().split()\n",
        "    n = int(nm[0])\n",
        "    m = int(nm[1])\n",
        "\n",
        "    arr = []\n",
        "\n",
        "    for _ in range(n):\n",
        "        arr.append(list(map(int, input().rstrip().split())))\n",
        "\n",
        "    k = int(input())\n",
        "    s_arr = sorted(arr, key=lambda x: x[k])\n",
        "\n",
        "    for row in s_arr:\n",
        "        print (' '.join(map(str, row)))"
      ],
      "metadata": {
        "id": "r7biSpxAyxkM"
      },
      "execution_count": null,
      "outputs": []
    },
    {
      "cell_type": "markdown",
      "source": [
        "**ginortS**"
      ],
      "metadata": {
        "id": "5xtEmUMXyxay"
      }
    },
    {
      "cell_type": "code",
      "source": [
        "s = input()\n",
        "\n",
        "lowercase = ''.join(sorted([ch for ch in s if ch.islower()]))\n",
        "uppercase = ''.join(sorted([ch for ch in s if ch.isupper()]))\n",
        "odds = ''.join(sorted([ch for ch in s if (ch.isnumeric() and int(ch)%2 == 1)]))\n",
        "even = ''.join(sorted([ch for ch in s if (ch.isnumeric() and int(ch)%2 == 0)]))\n",
        "\n",
        "print (lowercase + uppercase + odds + even)"
      ],
      "metadata": {
        "id": "rLXIlS9gyxSu"
      },
      "execution_count": null,
      "outputs": []
    },
    {
      "cell_type": "markdown",
      "source": [
        "### **Python Functionals**"
      ],
      "metadata": {
        "id": "PlnvTVzhy9ni"
      }
    },
    {
      "cell_type": "markdown",
      "source": [
        "**Map and Lambda Function**"
      ],
      "metadata": {
        "id": "bJhJ6sMYy9ck"
      }
    },
    {
      "cell_type": "code",
      "source": [
        "cube=lambda x:x**3\n",
        "\n",
        "def fibonacci(n):\n",
        "    l = []\n",
        "    a, b = 0, 1\n",
        "    for i in range(n):\n",
        "        l.append(a)\n",
        "        a, b = b, a + b\n",
        "    return l"
      ],
      "metadata": {
        "id": "XesbwKiVy9wK"
      },
      "execution_count": null,
      "outputs": []
    },
    {
      "cell_type": "markdown",
      "source": [
        "### **Regex and Parsing**"
      ],
      "metadata": {
        "id": "wOoiAo65zTeG"
      }
    },
    {
      "cell_type": "markdown",
      "source": [
        "**Detect Floating Point Number**"
      ],
      "metadata": {
        "id": "fktEFo8hzTYk"
      }
    },
    {
      "cell_type": "code",
      "source": [
        "T = int(input())\n",
        "\n",
        "for t in range(T):\n",
        "    number = input()\n",
        "\n",
        "    try:\n",
        "        if number.count('.') != 1:\n",
        "            print ('False')\n",
        "        else:\n",
        "            float(number)\n",
        "            print('True')\n",
        "    except ValueError:\n",
        "        print('False')"
      ],
      "metadata": {
        "id": "XSg8dk6azTRQ"
      },
      "execution_count": null,
      "outputs": []
    },
    {
      "cell_type": "markdown",
      "source": [
        "**Re.split()**"
      ],
      "metadata": {
        "id": "XQ3DWpSJzTE8"
      }
    },
    {
      "cell_type": "code",
      "source": [
        "regex_pattern = r\"[,.]\""
      ],
      "metadata": {
        "id": "uuCYK_yZzS_A"
      },
      "execution_count": null,
      "outputs": []
    },
    {
      "cell_type": "markdown",
      "source": [
        "**Group(), Groups() & Groupdict()**"
      ],
      "metadata": {
        "id": "y63ybESfzS4Q"
      }
    },
    {
      "cell_type": "code",
      "source": [
        "import re\n",
        "\n",
        "S = input()\n",
        "\n",
        "match = re.search(r'([a-zA-Z0-9])\\1', S)\n",
        "\n",
        "if match:\n",
        "    print(match.group(1))\n",
        "else:\n",
        "    print(-1)"
      ],
      "metadata": {
        "id": "mbeyQC9UzSxs"
      },
      "execution_count": null,
      "outputs": []
    },
    {
      "cell_type": "markdown",
      "source": [
        "**Re.findall() & Re.finditer()**"
      ],
      "metadata": {
        "id": "__rMahWKzSrL"
      }
    },
    {
      "cell_type": "code",
      "source": [
        "import re\n",
        "S = input()\n",
        "\n",
        "v = \"AEIOUaeiou\"\n",
        "c = \"QWRTYPSDFGHJKLZXCVBNMqwrtypsdfghjklzxcvbnm\"\n",
        "pattern = r'(?<=[%s])([%s]{2,})(?=[%s])' % (c, v, c)\n",
        "\n",
        "match = re.findall(pattern, S)\n",
        "\n",
        "if match:\n",
        "    for m in match:\n",
        "        print(m)\n",
        "else:\n",
        "    print(-1)"
      ],
      "metadata": {
        "id": "ejK1ThlzzSkK"
      },
      "execution_count": null,
      "outputs": []
    },
    {
      "cell_type": "markdown",
      "source": [
        "**Re.start() & Re.end()**"
      ],
      "metadata": {
        "id": "NJgbiAwqzRNc"
      }
    },
    {
      "cell_type": "code",
      "source": [
        "import re\n",
        "\n",
        "S = input()\n",
        "k = input()\n",
        "\n",
        "match = list(re.finditer(r'(?={})'.format(re.escape(k)), S))\n",
        "\n",
        "if match:\n",
        "    for m in match:\n",
        "        start = m.start()\n",
        "        end = start + len(k) - 1\n",
        "        print((start, end))\n",
        "else:\n",
        "    print((-1, -1))"
      ],
      "metadata": {
        "id": "An-UMDVBzRE7"
      },
      "execution_count": null,
      "outputs": []
    },
    {
      "cell_type": "markdown",
      "source": [
        "**Regex Substitution**"
      ],
      "metadata": {
        "id": "EEZIZrHdzQ9D"
      }
    },
    {
      "cell_type": "code",
      "source": [
        "import re\n",
        "\n",
        "N = int(input())\n",
        "\n",
        "for n in range(N):\n",
        "    line = input()\n",
        "\n",
        "    line = re.sub(r'(?<= )&&(?= )', 'and', line)\n",
        "\n",
        "    line = re.sub(r'(?<= )\\|\\|(?= )', 'or', line)\n",
        "\n",
        "    print(line)"
      ],
      "metadata": {
        "id": "Bzby3OFazQ1j"
      },
      "execution_count": null,
      "outputs": []
    },
    {
      "cell_type": "markdown",
      "source": [
        "**Validating Roman Numerals**"
      ],
      "metadata": {
        "id": "RxIbvhCKzQuN"
      }
    },
    {
      "cell_type": "code",
      "source": [
        "regex_pattern = r\"^M{0,3}(CM|CD|D?C{0,3})(XC|XL|L?X{0,3})(IX|IV|V?I{0,3})$\""
      ],
      "metadata": {
        "id": "SDuSvcp0zQnc"
      },
      "execution_count": null,
      "outputs": []
    },
    {
      "cell_type": "markdown",
      "source": [
        "**Validating phone numbers**"
      ],
      "metadata": {
        "id": "sTbPm__XzQhO"
      }
    },
    {
      "cell_type": "code",
      "source": [
        "import re\n",
        "\n",
        "N = int(input())\n",
        "pattern = r\"^[789]\\d{9}$\"\n",
        "\n",
        "for n in range(N):\n",
        "    phone = input()\n",
        "    if re.match(pattern, phone):\n",
        "        print(\"YES\")\n",
        "    else:\n",
        "        print(\"NO\")"
      ],
      "metadata": {
        "id": "ifbTtDDSzQae"
      },
      "execution_count": null,
      "outputs": []
    },
    {
      "cell_type": "markdown",
      "source": [
        "**Validating and Parsing Email Addresses**"
      ],
      "metadata": {
        "id": "8AfbvUUszQSW"
      }
    },
    {
      "cell_type": "code",
      "source": [
        "import re\n",
        "import email.utils\n",
        "\n",
        "N = int(input())\n",
        "pattern = r\"^[a-zA-Z][\\w\\.-]*@[a-zA-Z]+\\.[a-zA-Z]{1,3}$\"\n",
        "\n",
        "\n",
        "for n in range(N):\n",
        "    name, address = email.utils.parseaddr(input())\n",
        "\n",
        "    if re.match(pattern, address):\n",
        "        print(email.utils.formataddr((name, address)))"
      ],
      "metadata": {
        "id": "hkyU5ZMNzQK2"
      },
      "execution_count": null,
      "outputs": []
    },
    {
      "cell_type": "markdown",
      "source": [
        "**Hex Color Code**"
      ],
      "metadata": {
        "id": "WO4eDqXgzQBa"
      }
    },
    {
      "cell_type": "code",
      "source": [
        "import re\n",
        "N = int(input())\n",
        "pattern = r\"(\\#[a-f0-9]{3,6})[\\;\\,\\)]{1}\"\n",
        "\n",
        "for n in range(N):\n",
        "    match = re.findall(pattern, input(), re.I)\n",
        "    if match:\n",
        "        for j in list(match):\n",
        "            print(j)"
      ],
      "metadata": {
        "id": "ICVTFe5ozP40"
      },
      "execution_count": null,
      "outputs": []
    },
    {
      "cell_type": "markdown",
      "source": [
        "**HTML Parser - Part 1**"
      ],
      "metadata": {
        "id": "TsO5hSejzODJ"
      }
    },
    {
      "cell_type": "code",
      "source": [
        "from html.parser import HTMLParser\n",
        "\n",
        "class MyHTMLParser(HTMLParser):\n",
        "\n",
        "\n",
        "    def handle_starttag(self, tag, attrs):\n",
        "        print(f\"Start : {tag}\")\n",
        "        for attr in attrs:\n",
        "            print(f\"-> {attr[0]} > {attr[1] if attr[1] else 'None'}\")\n",
        "\n",
        "\n",
        "    def handle_endtag(self, tag):\n",
        "        print(f\"End   : {tag}\")\n",
        "\n",
        "    def handle_startendtag(self, tag, attrs):\n",
        "        print(f\"Empty : {tag}\")\n",
        "        for attr in attrs:\n",
        "            print(f\"-> {attr[0]} > {attr[1] if attr[1] else 'None'}\")\n",
        "\n",
        "N = int(input())\n",
        "html = \"\"\n",
        "\n",
        "for n in range(N):\n",
        "    html += input()\n",
        "\n",
        "parser = MyHTMLParser()\n",
        "parser.feed(html)"
      ],
      "metadata": {
        "id": "5XeBwbZqzO7e"
      },
      "execution_count": null,
      "outputs": []
    },
    {
      "cell_type": "markdown",
      "source": [
        "**HTML Parser - Part 2**"
      ],
      "metadata": {
        "id": "OQZWiy9TzMxU"
      }
    },
    {
      "cell_type": "code",
      "source": [
        "from html.parser import HTMLParser\n",
        "\n",
        "class MyHTMLParser(HTMLParser):\n",
        "\n",
        "    def handle_comment(self, data):\n",
        "        if '\\n' in data:\n",
        "            print('>>> Multi-line Comment')\n",
        "        else:\n",
        "            print('>>> Single-line Comment')\n",
        "        print(data)\n",
        "\n",
        "    def handle_data(self, data):\n",
        "        if data.strip():\n",
        "            print('>>> Data')\n",
        "            print(data)\n",
        "\n",
        "html = \"\"\n",
        "for i in range(int(input())):\n",
        "    html += input().rstrip()\n",
        "    html += '\\n'\n",
        "\n",
        "parser = MyHTMLParser()\n",
        "parser.feed(html)\n",
        "parser.close()\n"
      ],
      "metadata": {
        "id": "12LQBTXQzMpM"
      },
      "execution_count": null,
      "outputs": []
    },
    {
      "cell_type": "markdown",
      "source": [
        "**Detect HTML Tags, Attributes and Attribute Values**"
      ],
      "metadata": {
        "id": "6YVf8MFazMcJ"
      }
    },
    {
      "cell_type": "code",
      "source": [
        "from html.parser import HTMLParser\n",
        "\n",
        "class MyHTMLParser(HTMLParser):\n",
        "\n",
        "    def handle_starttag(self, tag, attributes):\n",
        "        print(tag)\n",
        "        for a in attributes:\n",
        "            print(f\"-> {a[0]} > {a[1]}\")\n",
        "\n",
        "N = int(input())\n",
        "html = \"\"\n",
        "for n in range(N):\n",
        "    html += input() + '\\n'\n",
        "\n",
        "# Inizializzazione del parser e parsing del contenuto HTML\n",
        "parser = MyHTMLParser()\n",
        "parser.feed(html)"
      ],
      "metadata": {
        "id": "A99EWrowzMGg"
      },
      "execution_count": null,
      "outputs": []
    },
    {
      "cell_type": "markdown",
      "source": [
        "**Validating UID**"
      ],
      "metadata": {
        "id": "zvQ-oNfUzL1P"
      }
    },
    {
      "cell_type": "code",
      "source": [
        "import re\n",
        "\n",
        "T = int(input())\n",
        "\n",
        "for t in range(T):\n",
        "    uid = input()\n",
        "\n",
        "    conditions = ((len(uid) != 10)\n",
        "    or (len(re.findall(r'[A-Z]', uid)) < 2)\n",
        "    or (len(re.findall(r'[0-9]', uid)) < 3)\n",
        "    or (not uid.isalnum())\n",
        "    or (len(set(uid)) != 10))\n",
        "\n",
        "    if conditions:\n",
        "        print(\"Invalid\")\n",
        "    else:\n",
        "        print(\"Valid\")"
      ],
      "metadata": {
        "id": "rF3xwvm3zLmJ"
      },
      "execution_count": null,
      "outputs": []
    },
    {
      "cell_type": "markdown",
      "source": [
        "**Validating Credit Card Numbers**"
      ],
      "metadata": {
        "id": "9pOzefx30aM_"
      }
    },
    {
      "cell_type": "code",
      "source": [
        "import re\n",
        "\n",
        "def valid(card):\n",
        "\n",
        "    if not re.match(r\"^[456]\\d{3}(-?\\d{4}){3}$\", card):\n",
        "        return \"Invalid\"\n",
        "\n",
        "    card = card.replace(\"-\", \"\")\n",
        "\n",
        "    if re.search(r\"(\\d)\\1{3,}\", card):\n",
        "        return \"Invalid\"\n",
        "\n",
        "    return \"Valid\"\n",
        "\n",
        "N = int(input())\n",
        "for n in range(N):\n",
        "    card = input()\n",
        "    print(valid(card))"
      ],
      "metadata": {
        "id": "cVLPCGFs0ak6"
      },
      "execution_count": null,
      "outputs": []
    },
    {
      "cell_type": "markdown",
      "source": [
        "**Validating Postal Codes**"
      ],
      "metadata": {
        "id": "Yjpr4uZC0eoV"
      }
    },
    {
      "cell_type": "code",
      "source": [
        "regex_integer_in_range = r\"^[1-9]\\d{5}$\"\n",
        "regex_alternating_repetitive_digit_pair = r\"(\\d)(?=\\d\\1)\""
      ],
      "metadata": {
        "id": "efS3Dvti0fGU"
      },
      "execution_count": null,
      "outputs": []
    },
    {
      "cell_type": "markdown",
      "source": [
        "**Matrix Script**"
      ],
      "metadata": {
        "id": "xBqhkyNk0fiG"
      }
    },
    {
      "cell_type": "code",
      "source": [
        "#!/bin/python3\n",
        "\n",
        "import math\n",
        "import os\n",
        "import random\n",
        "import re\n",
        "import sys\n",
        "\n",
        "first_multiple_input = input().rstrip().split()\n",
        "\n",
        "n = int(first_multiple_input[0])\n",
        "m = int(first_multiple_input[1])\n",
        "\n",
        "matrix = []\n",
        "\n",
        "for _ in range(n):\n",
        "    matrix_item = input()\n",
        "    matrix.append(matrix_item)\n",
        "\n",
        "d = ''.join([matrix[row][col] for col in range(m) for row in range(n)])\n",
        "\n",
        "d = re.sub(r'(?<=\\w)([^\\w]+)(?=\\w)', ' ', d)\n",
        "\n",
        "print(d)"
      ],
      "metadata": {
        "id": "TQwn6pkQ0egi"
      },
      "execution_count": null,
      "outputs": []
    },
    {
      "cell_type": "markdown",
      "source": [
        "### **XML**"
      ],
      "metadata": {
        "id": "0LZjBrbl0q2z"
      }
    },
    {
      "cell_type": "markdown",
      "source": [
        "**XML 1 - Find the Score**"
      ],
      "metadata": {
        "id": "c9ed3zbs0qsX"
      }
    },
    {
      "cell_type": "code",
      "source": [
        "def get_attr_number(node):\n",
        "    tot = len(node.attrib)\n",
        "\n",
        "    for child in node:\n",
        "        tot += get_attr_number(child)\n",
        "\n",
        "    return tot"
      ],
      "metadata": {
        "id": "jMOPJ73l0qlV"
      },
      "execution_count": null,
      "outputs": []
    },
    {
      "cell_type": "markdown",
      "source": [
        "**XML 2 - Find the Maximum Depth**"
      ],
      "metadata": {
        "id": "yTkz7nWP0qd1"
      }
    },
    {
      "cell_type": "code",
      "source": [
        "maxdepth = 0\n",
        "def depth(elem, level):\n",
        "    global maxdepth\n",
        "\n",
        "    if level + 1 > maxdepth:\n",
        "        maxdepth = level + 1\n",
        "\n",
        "    for child in elem:\n",
        "        depth(child, level + 1)"
      ],
      "metadata": {
        "id": "IcdsFxAd0qWi"
      },
      "execution_count": null,
      "outputs": []
    },
    {
      "cell_type": "markdown",
      "source": [
        "### **Closures and Decorators**"
      ],
      "metadata": {
        "id": "wyRUxtMm07Dw"
      }
    },
    {
      "cell_type": "markdown",
      "source": [
        "**Standardize Mobile Number Using Decorators**"
      ],
      "metadata": {
        "id": "mafOjo5L06OP"
      }
    },
    {
      "cell_type": "code",
      "source": [
        "def wrapper(f):\n",
        "    def fun(l):\n",
        "        standard = ['+91 ' + n[-10:-5] + ' ' + n[-5:] for n in l]\n",
        "        return f(standard)\n",
        "    return fun"
      ],
      "metadata": {
        "id": "if0G_IUu06GL"
      },
      "execution_count": null,
      "outputs": []
    },
    {
      "cell_type": "markdown",
      "source": [
        "**Decorators 2 - Name Directory**"
      ],
      "metadata": {
        "id": "GX0E5aWu059p"
      }
    },
    {
      "cell_type": "code",
      "source": [
        "def person_lister(f):\n",
        "    def inner(people):\n",
        "        s_people = sorted(people, key=lambda x: int (x[2]))\n",
        "        return [f(p) for p in s_people]\n",
        "\n",
        "    return inner"
      ],
      "metadata": {
        "id": "7o2cxokh050v"
      },
      "execution_count": null,
      "outputs": []
    },
    {
      "cell_type": "markdown",
      "source": [
        "### **Numpy**"
      ],
      "metadata": {
        "id": "fSc-tnGD1T_C"
      }
    },
    {
      "cell_type": "markdown",
      "source": [
        "**Arrays**"
      ],
      "metadata": {
        "id": "cWyCwVeg1Tvr"
      }
    },
    {
      "cell_type": "code",
      "source": [
        "import numpy\n",
        "\n",
        "def arrays(arr):\n",
        "    np_arr = numpy.array(arr, dtype=float)\n",
        "    return np_arr[::-1]"
      ],
      "metadata": {
        "id": "u4TqtWsH1Tmj"
      },
      "execution_count": null,
      "outputs": []
    },
    {
      "cell_type": "markdown",
      "source": [
        "**Shape and Reshape**"
      ],
      "metadata": {
        "id": "FvPkEbPl1Tdb"
      }
    },
    {
      "cell_type": "code",
      "source": [
        "import numpy\n",
        "\n",
        "array = list(map(int, input().split()))\n",
        "np_array = numpy.array(array).reshape(3, 3)\n",
        "\n",
        "print(np_array)"
      ],
      "metadata": {
        "id": "kxHYA8-h1TV5"
      },
      "execution_count": null,
      "outputs": []
    },
    {
      "cell_type": "markdown",
      "source": [
        "**Transpose and Flatten**"
      ],
      "metadata": {
        "id": "Ff96-M_61TMy"
      }
    },
    {
      "cell_type": "code",
      "source": [
        "import numpy\n",
        "\n",
        "N, M = map(int, input().split())\n",
        "\n",
        "matrix = numpy.array([input().split() for n in range(N)], int)\n",
        "\n",
        "print(numpy.transpose(matrix))\n",
        "\n",
        "print(matrix.flatten())"
      ],
      "metadata": {
        "id": "tHNdsLEu1TFN"
      },
      "execution_count": null,
      "outputs": []
    },
    {
      "cell_type": "markdown",
      "source": [
        "**Concatenate**"
      ],
      "metadata": {
        "id": "zhgxUthH1S8I"
      }
    },
    {
      "cell_type": "code",
      "source": [
        "import numpy\n",
        "\n",
        "N, M, P = map(int, input().split())\n",
        "\n",
        "array_nxp = numpy.array([input().split() for n in range(N)], int)\n",
        "\n",
        "array_mxp = numpy.array([input().split() for m in range(M)], int)\n",
        "\n",
        "print(numpy.concatenate((array_nxp, array_mxp), axis=0))\n"
      ],
      "metadata": {
        "id": "e0Vc_R0L1SzP"
      },
      "execution_count": null,
      "outputs": []
    },
    {
      "cell_type": "markdown",
      "source": [
        "**Zeros and Ones**"
      ],
      "metadata": {
        "id": "rNZAlWK81SqI"
      }
    },
    {
      "cell_type": "code",
      "source": [
        "import numpy\n",
        "\n",
        "line = tuple(map(int, input().split()))\n",
        "\n",
        "print(numpy.zeros(line, dtype=int))\n",
        "print(numpy.ones(line, dtype=int))"
      ],
      "metadata": {
        "id": "Zy1mitwO1Shj"
      },
      "execution_count": null,
      "outputs": []
    },
    {
      "cell_type": "markdown",
      "source": [
        "**Eye and Identity**"
      ],
      "metadata": {
        "id": "A2GxNllJ1SX9"
      }
    },
    {
      "cell_type": "code",
      "source": [
        "import numpy\n",
        "\n",
        "numpy.set_printoptions(legacy='1.13')\n",
        "N, M = map(int, input().split())\n",
        "print(numpy.eye(N, M))"
      ],
      "metadata": {
        "id": "IRXGw2HU1SPB"
      },
      "execution_count": null,
      "outputs": []
    },
    {
      "cell_type": "markdown",
      "source": [
        "**Array Mathematics**"
      ],
      "metadata": {
        "id": "OouOUDaJ1SFb"
      }
    },
    {
      "cell_type": "code",
      "source": [
        "import numpy\n",
        "\n",
        "N, M = map(int, input().split())\n",
        "\n",
        "A = numpy.array([input().split() for n in range(N)], dtype=int)\n",
        "\n",
        "B = numpy.array([input().split() for n in range(N)], dtype=int)\n",
        "\n",
        "print(numpy.add(A, B))\n",
        "print(numpy.subtract(A, B))\n",
        "print(numpy.multiply(A, B))\n",
        "print(numpy.floor_divide(A, B))\n",
        "print(numpy.mod(A, B))\n",
        "print(numpy.power(A, B))"
      ],
      "metadata": {
        "id": "SxaXtcBc1R80"
      },
      "execution_count": null,
      "outputs": []
    },
    {
      "cell_type": "markdown",
      "source": [
        "**Floor, Ceil and Rint**"
      ],
      "metadata": {
        "id": "WkXzsEwC1Rzs"
      }
    },
    {
      "cell_type": "code",
      "source": [
        "import numpy\n",
        "\n",
        "numpy.set_printoptions(legacy='1.13')\n",
        "\n",
        "A = numpy.array(input().split(), float)\n",
        "\n",
        "print(f'{numpy.floor(A)}\\n{numpy.ceil(A)}\\n{numpy.rint(A)}')"
      ],
      "metadata": {
        "id": "nw2dLlaW1Rra"
      },
      "execution_count": null,
      "outputs": []
    },
    {
      "cell_type": "markdown",
      "source": [
        "**Sum and Prod**"
      ],
      "metadata": {
        "id": "bl7Jppqu1Riy"
      }
    },
    {
      "cell_type": "code",
      "source": [
        "import numpy\n",
        "\n",
        "N, M = map(int, input().split())\n",
        "\n",
        "a = numpy.array([input().split() for n in range(N)], int)\n",
        "\n",
        "s = numpy.sum(a, axis=0)\n",
        "print(numpy.prod(s))"
      ],
      "metadata": {
        "id": "qIwVRfp81RaM"
      },
      "execution_count": null,
      "outputs": []
    },
    {
      "cell_type": "markdown",
      "source": [
        "**Min and Max**"
      ],
      "metadata": {
        "id": "A6kBo11_1RRW"
      }
    },
    {
      "cell_type": "code",
      "source": [
        "import numpy\n",
        "\n",
        "N, M = map(int, input().split())\n",
        "\n",
        "a = numpy.array([input().split() for n in range(N)], int)\n",
        "\n",
        "min1 = numpy.min(a, axis=1)\n",
        "print(numpy.max(min1))"
      ],
      "metadata": {
        "id": "20Y86xGj1RIf"
      },
      "execution_count": null,
      "outputs": []
    },
    {
      "cell_type": "markdown",
      "source": [
        "**Mean, Var, and Std**"
      ],
      "metadata": {
        "id": "rjDQlIXC1Q_5"
      }
    },
    {
      "cell_type": "code",
      "source": [
        "import numpy\n",
        "\n",
        "N, M = map(int, input().split())\n",
        "\n",
        "a = numpy.array([input().split() for n in range(N)], float)\n",
        "\n",
        "print(numpy.mean(a, axis=1))\n",
        "print(numpy.var(a, axis=0))\n",
        "print(numpy.round(numpy.std(a), 11)) # <-- I looked this line up since i couldn't figure out the rounding"
      ],
      "metadata": {
        "id": "1UZwkEJF1Q2g"
      },
      "execution_count": null,
      "outputs": []
    },
    {
      "cell_type": "markdown",
      "source": [
        "**Dot and Cross**"
      ],
      "metadata": {
        "id": "VfUnNSXJ1QTu"
      }
    },
    {
      "cell_type": "code",
      "source": [
        "import numpy\n",
        "N = int(input())\n",
        "\n",
        "a = numpy.array([input().split() for n in range(N)], int)\n",
        "\n",
        "b = numpy.array([input().split() for n in range(N)], int)\n",
        "\n",
        "print(numpy.dot(a, b))"
      ],
      "metadata": {
        "id": "Pe9nt5pc1QLL"
      },
      "execution_count": null,
      "outputs": []
    },
    {
      "cell_type": "markdown",
      "source": [
        "**Inner and Outer**"
      ],
      "metadata": {
        "id": "Q4smBpeL1QCh"
      }
    },
    {
      "cell_type": "code",
      "source": [
        "import numpy\n",
        "\n",
        "a = numpy.array(input().split(), int)\n",
        "b = numpy.array(input().split(), int)\n",
        "\n",
        "print(f'{numpy.inner(a, b)}\\n{numpy.outer(a, b)}')"
      ],
      "metadata": {
        "id": "5bRhAVyE1P8T"
      },
      "execution_count": null,
      "outputs": []
    },
    {
      "cell_type": "markdown",
      "source": [
        "**Polynomials**"
      ],
      "metadata": {
        "id": "4wbKWqFN1Pz9"
      }
    },
    {
      "cell_type": "code",
      "source": [
        "import numpy\n",
        "c = numpy.array(input().split(), float)\n",
        "x = float(input())\n",
        "\n",
        "print(numpy.polyval(c, x))"
      ],
      "metadata": {
        "id": "-jM4ZE8q1Ptx"
      },
      "execution_count": null,
      "outputs": []
    },
    {
      "cell_type": "markdown",
      "source": [
        "**Linear Algebra**"
      ],
      "metadata": {
        "id": "Ufrj041k1PlW"
      }
    },
    {
      "cell_type": "code",
      "source": [
        "import numpy\n",
        "\n",
        "N = int(input())\n",
        "a = numpy.array([input().split() for n in range(N)], float)\n",
        "\n",
        "print(round(numpy.linalg.det(a), 2))"
      ],
      "metadata": {
        "id": "5P6B8dx51PeI"
      },
      "execution_count": null,
      "outputs": []
    },
    {
      "cell_type": "markdown",
      "source": [
        "# **Problem 2**"
      ],
      "metadata": {
        "id": "pO1jogeBGeaf"
      }
    },
    {
      "cell_type": "markdown",
      "source": [
        "**Birthday Cake Candles**"
      ],
      "metadata": {
        "id": "WXFzr0CBGhkH"
      }
    },
    {
      "cell_type": "code",
      "source": [
        "#!/bin/python3\n",
        "\n",
        "import math\n",
        "import os\n",
        "import random\n",
        "import re\n",
        "import sys\n",
        "\n",
        "#\n",
        "# Complete the 'birthdayCakeCandles' function below.\n",
        "#\n",
        "# The function is expected to return an INTEGER.\n",
        "# The function accepts INTEGER_ARRAY candles as parameter.\n",
        "#\n",
        "\n",
        "def birthdayCakeCandles(candles):\n",
        "    tallest = max(candles)\n",
        "    return candles.count(tallest)\n",
        "\n",
        "if __name__ == '__main__':\n",
        "    fptr = open(os.environ['OUTPUT_PATH'], 'w')\n",
        "\n",
        "    candles_count = int(input().strip())\n",
        "\n",
        "    candles = list(map(int, input().rstrip().split()))\n",
        "\n",
        "    result = birthdayCakeCandles(candles)\n",
        "\n",
        "    fptr.write(str(result) + '\\n')\n",
        "\n",
        "    fptr.close()"
      ],
      "metadata": {
        "id": "l4f5BgRLGlVb"
      },
      "execution_count": null,
      "outputs": []
    },
    {
      "cell_type": "markdown",
      "source": [
        "**Number Line Jumps**"
      ],
      "metadata": {
        "id": "OtufwsVGGoQ9"
      }
    },
    {
      "cell_type": "code",
      "source": [
        "#!/bin/python3\n",
        "\n",
        "import math\n",
        "import os\n",
        "import random\n",
        "import re\n",
        "import sys\n",
        "\n",
        "#\n",
        "# Complete the 'kangaroo' function below.\n",
        "#\n",
        "# The function is expected to return a STRING.\n",
        "# The function accepts following parameters:\n",
        "#  1. INTEGER x1\n",
        "#  2. INTEGER v1\n",
        "#  3. INTEGER x2\n",
        "#  4. INTEGER v2\n",
        "#\n",
        "\n",
        "def kangaroo(x1, v1, x2, v2):\n",
        "    # initial check to avoid while\n",
        "    if v1 == v2:\n",
        "        if x1 == x2:\n",
        "            return ('YES')\n",
        "        else:\n",
        "            return ('NO')\n",
        "    # if at some point the kangaroo with > velocity is ahead the two won't meet\n",
        "    while x1 != x2:\n",
        "        x1 += v1\n",
        "        x2 += v2\n",
        "        if (x1>x2 and v1>=v2) or (x1<x2 and v1<=v2):\n",
        "            return ('NO')\n",
        "\n",
        "    return 'YES'\n",
        "\n",
        "\n",
        "if __name__ == '__main__':\n",
        "    fptr = open(os.environ['OUTPUT_PATH'], 'w')\n",
        "\n",
        "    first_multiple_input = input().rstrip().split()\n",
        "\n",
        "    x1 = int(first_multiple_input[0])\n",
        "\n",
        "    v1 = int(first_multiple_input[1])\n",
        "\n",
        "    x2 = int(first_multiple_input[2])\n",
        "\n",
        "    v2 = int(first_multiple_input[3])\n",
        "\n",
        "    result = kangaroo(x1, v1, x2, v2)\n",
        "\n",
        "    fptr.write(result + '\\n')\n",
        "\n",
        "    fptr.close()"
      ],
      "metadata": {
        "id": "Ee--6YPiGvC2"
      },
      "execution_count": null,
      "outputs": []
    },
    {
      "cell_type": "markdown",
      "source": [
        "**Viral Advertising**"
      ],
      "metadata": {
        "id": "X5EWcZAhGx8c"
      }
    },
    {
      "cell_type": "code",
      "source": [
        "#!/bin/python3\n",
        "\n",
        "import math\n",
        "import os\n",
        "import random\n",
        "import re\n",
        "import sys\n",
        "\n",
        "#\n",
        "# Complete the 'viralAdvertising' function below.\n",
        "#\n",
        "# The function is expected to return an INTEGER.\n",
        "# The function accepts INTEGER n as parameter.\n",
        "#\n",
        "\n",
        "def viralAdvertising(n):\n",
        "    people = 5\n",
        "    like = 2\n",
        "    count = 2\n",
        "    for day in range (2,n+1):\n",
        "        people = like * 3\n",
        "        like = people // 2\n",
        "        count += like\n",
        "\n",
        "    return count\n",
        "\n",
        "\n",
        "if __name__ == '__main__':\n",
        "    fptr = open(os.environ['OUTPUT_PATH'], 'w')\n",
        "\n",
        "    n = int(input().strip())\n",
        "\n",
        "    result = viralAdvertising(n)\n",
        "\n",
        "    fptr.write(str(result) + '\\n')\n",
        "\n",
        "    fptr.close()"
      ],
      "metadata": {
        "id": "Q3PHfgGIG48h"
      },
      "execution_count": null,
      "outputs": []
    },
    {
      "cell_type": "markdown",
      "source": [
        "**Recursive Digit Sum**"
      ],
      "metadata": {
        "id": "W9v0wBKfG8Tr"
      }
    },
    {
      "cell_type": "code",
      "source": [
        "#!/bin/python3\n",
        "\n",
        "import math\n",
        "import os\n",
        "import random\n",
        "import re\n",
        "import sys\n",
        "\n",
        "#\n",
        "# Complete the 'superDigit' function below.\n",
        "#\n",
        "# The function is expected to return an INTEGER.\n",
        "# The function accepts following parameters:\n",
        "#  1. STRING n\n",
        "#  2. INTEGER k\n",
        "#\n",
        "\n",
        "def superDigit(n, k):\n",
        "    if len(n) == 1 and k == 1:\n",
        "        return int(n*k)\n",
        "    else:\n",
        "        num = sum(map(int, [ch for ch in n]))*k\n",
        "        return superDigit(str(num), 1)\n",
        "\n",
        "if __name__ == '__main__':\n",
        "    fptr = open(os.environ['OUTPUT_PATH'], 'w')\n",
        "\n",
        "    first_multiple_input = input().rstrip().split()\n",
        "\n",
        "    n = first_multiple_input[0]\n",
        "\n",
        "    k = int(first_multiple_input[1])\n",
        "\n",
        "    result = superDigit(n, k)\n",
        "\n",
        "    fptr.write(str(result) + '\\n')\n",
        "\n",
        "    fptr.close()"
      ],
      "metadata": {
        "id": "Qr5zXO2QG-yc"
      },
      "execution_count": null,
      "outputs": []
    },
    {
      "cell_type": "markdown",
      "source": [
        "**Insertion Sort - Part 1**"
      ],
      "metadata": {
        "id": "e-6KSHSxHC4J"
      }
    },
    {
      "cell_type": "code",
      "source": [
        "#!/bin/python3\n",
        "\n",
        "import math\n",
        "import os\n",
        "import random\n",
        "import re\n",
        "import sys\n",
        "\n",
        "#\n",
        "# Complete the 'insertionSort1' function below.\n",
        "#\n",
        "# The function accepts following parameters:\n",
        "#  1. INTEGER n\n",
        "#  2. INTEGER_ARRAY arr\n",
        "#\n",
        "\n",
        "def insertionSort1(n, arr):\n",
        "    number = arr[n-1]\n",
        "    i = n-2\n",
        "\n",
        "    while i >= 0 and number < arr[i]:\n",
        "        arr[i+1] = arr[i]\n",
        "        i-=1\n",
        "        print(' '.join(map(str, arr)))\n",
        "\n",
        "    arr[i+1] = number\n",
        "    print(' '.join(map(str, arr)))\n",
        "\n",
        "\n",
        "\n",
        "\n",
        "if __name__ == '__main__':\n",
        "    n = int(input().strip())\n",
        "\n",
        "    arr = list(map(int, input().rstrip().split()))\n",
        "\n",
        "    insertionSort1(n, arr)"
      ],
      "metadata": {
        "id": "sXabhW04HFOu"
      },
      "execution_count": null,
      "outputs": []
    },
    {
      "cell_type": "markdown",
      "source": [
        "**Insertion Sort - Part 2**"
      ],
      "metadata": {
        "id": "SaUOfAr-HI1k"
      }
    },
    {
      "cell_type": "code",
      "source": [
        "#!/bin/python3\n",
        "\n",
        "import math\n",
        "import os\n",
        "import random\n",
        "import re\n",
        "import sys\n",
        "\n",
        "#\n",
        "# Complete the 'insertionSort2' function below.\n",
        "#\n",
        "# The function accepts following parameters:\n",
        "#  1. INTEGER n\n",
        "#  2. INTEGER_ARRAY arr\n",
        "#\n",
        "\n",
        "def insertionSort2(n, arr):\n",
        "    for i in range(1, n):\n",
        "        number = arr[i]\n",
        "        j = i - 1\n",
        "\n",
        "        while j >= 0 and arr[j] > number:\n",
        "            arr[j + 1] = arr[j]\n",
        "            j -= 1\n",
        "\n",
        "        arr[j + 1] = number\n",
        "\n",
        "        print(' '.join(map(str, arr)))\n",
        "\n",
        "if __name__ == '__main__':\n",
        "    n = int(input().strip())\n",
        "\n",
        "    arr = list(map(int, input().rstrip().split()))\n",
        "\n",
        "    insertionSort2(n, arr)"
      ],
      "metadata": {
        "id": "MtZFHRlRHLNf"
      },
      "execution_count": null,
      "outputs": []
    }
  ]
}